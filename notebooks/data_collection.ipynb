{
 "cells": [
  {
   "cell_type": "code",
   "execution_count": 1,
   "id": "e402d1f7",
   "metadata": {},
   "outputs": [],
   "source": [
    "import urllib.request, urllib.parse, urllib.error\n",
    "import requests\n",
    "from urllib import request\n",
    "from bs4 import BeautifulSoup\n",
    "import ssl\n",
    "import time\n",
    "import pandas as pd\n",
    "import zipfile"
   ]
  },
  {
   "cell_type": "code",
   "execution_count": 2,
   "id": "29c7d17b",
   "metadata": {},
   "outputs": [],
   "source": [
    "url = 'https://archive.ics.uci.edu/static/public/555/apartment+for+rent+classified.zip'"
   ]
  },
  {
   "cell_type": "code",
   "execution_count": 3,
   "id": "86b59d88",
   "metadata": {},
   "outputs": [],
   "source": [
    "import os\n",
    "dataset_path = os.getcwd() + \"/\""
   ]
  },
  {
   "cell_type": "code",
   "execution_count": 4,
   "id": "5661d0f8",
   "metadata": {},
   "outputs": [],
   "source": [
    "def download_file(url, dataset_path, filename):\n",
    "    \"\"\"\n",
    "    Downloads the file at the url to the path 'dataset_path/filename'.\n",
    "\n",
    "    Returns True if dataset was downloaded, False if already existing\n",
    "    \"\"\"\n",
    "    os.makedirs(dataset_path, exist_ok=True)\n",
    "    file_path = os.path.join(dataset_path, filename)\n",
    "    if not os.path.exists(file_path):\n",
    "        request.urlretrieve(url, file_path)\n",
    "        return True\n",
    "    else:\n",
    "        return False"
   ]
  },
  {
   "cell_type": "code",
   "execution_count": 5,
   "id": "c0bd107b",
   "metadata": {},
   "outputs": [],
   "source": [
    "def download_unzip(url: str, dataset_path: str):\n",
    "    \"\"\"\n",
    "    Downloads the file at the specified 'url' and unzips it\n",
    "    at the specified 'dataset_path'.\n",
    "    \"\"\"\n",
    "    filename_zip = dataset_path + '/data.zip'\n",
    "    file_path_zip = os.path.join(dataset_path, filename_zip)\n",
    "    fresh_download = download_file(url, dataset_path, filename_zip)\n",
    "    if fresh_download:\n",
    "        # TODO This naively assumes downloaded implies extracted\n",
    "        zf = zipfile.ZipFile(file_path_zip)\n",
    "        zf.extractall(dataset_path)"
   ]
  },
  {
   "cell_type": "code",
   "execution_count": 6,
   "id": "c1bcb533",
   "metadata": {},
   "outputs": [],
   "source": [
    "download_unzip(url, dataset_path)"
   ]
  },
  {
   "cell_type": "code",
   "execution_count": 7,
   "id": "ae6bb748",
   "metadata": {},
   "outputs": [],
   "source": [
    "zipfile_path = \"/Users/sharikamahadevan/Documents/01.Northwestern/04. 2023 09 Fall/COMP SCI 310 - Scalable Computer Architecture/AWS-MLops/notebooks/apartments_for_rent_classified_100K.7z\""
   ]
  },
  {
   "cell_type": "code",
   "execution_count": 16,
   "id": "6bbef2aa",
   "metadata": {},
   "outputs": [
    {
     "name": "stdout",
     "output_type": "stream",
     "text": [
      "Requirement already satisfied: pyunpack in /Users/sharikamahadevan/.local/lib/python3.9/site-packages (0.3)\n",
      "Requirement already satisfied: easyprocess in /Users/sharikamahadevan/.local/lib/python3.9/site-packages (from pyunpack) (1.1)\n",
      "Requirement already satisfied: entrypoint2 in /Users/sharikamahadevan/.local/lib/python3.9/site-packages (from pyunpack) (1.1)\n",
      "Requirement already satisfied: patool in /Users/sharikamahadevan/.local/lib/python3.9/site-packages (1.15.0)\n",
      "Collecting py7zr\n",
      "  Downloading py7zr-0.20.6-py3-none-any.whl.metadata (16 kB)\n",
      "Collecting texttable (from py7zr)\n",
      "  Downloading texttable-1.7.0-py2.py3-none-any.whl.metadata (9.8 kB)\n",
      "Collecting pycryptodomex>=3.6.6 (from py7zr)\n",
      "  Downloading pycryptodomex-3.19.0-cp35-abi3-macosx_10_9_x86_64.whl.metadata (3.4 kB)\n",
      "Collecting pyzstd>=0.14.4 (from py7zr)\n",
      "  Downloading pyzstd-0.15.9-cp39-cp39-macosx_10_9_x86_64.whl.metadata (7.5 kB)\n",
      "Collecting pyppmd<1.1.0,>=0.18.1 (from py7zr)\n",
      "  Downloading pyppmd-1.0.0-cp39-cp39-macosx_10_9_x86_64.whl (47 kB)\n",
      "\u001b[2K     \u001b[90m━━━━━━━━━━━━━━━━━━━━━━━━━━━━━━━━━━━━━━━━\u001b[0m \u001b[32m47.3/47.3 kB\u001b[0m \u001b[31m2.0 MB/s\u001b[0m eta \u001b[36m0:00:00\u001b[0m\n",
      "\u001b[?25hCollecting pybcj>=0.6.0 (from py7zr)\n",
      "  Downloading pybcj-1.0.1-cp39-cp39-macosx_10_9_x86_64.whl (23 kB)\n",
      "Collecting multivolumefile>=0.2.3 (from py7zr)\n",
      "  Downloading multivolumefile-0.2.3-py3-none-any.whl (17 kB)\n",
      "Collecting brotli>=1.0.9 (from py7zr)\n",
      "  Downloading Brotli-1.1.0-cp39-cp39-macosx_10_9_x86_64.whl.metadata (5.5 kB)\n",
      "Collecting inflate64>=0.3.1 (from py7zr)\n",
      "  Downloading inflate64-0.3.1-cp39-cp39-macosx_10_9_x86_64.whl (36 kB)\n",
      "Requirement already satisfied: psutil in /Users/sharikamahadevan/opt/anaconda3/lib/python3.9/site-packages (from py7zr) (5.8.0)\n",
      "Downloading py7zr-0.20.6-py3-none-any.whl (66 kB)\n",
      "\u001b[2K   \u001b[90m━━━━━━━━━━━━━━━━━━━━━━━━━━━━━━━━━━━━━━━━\u001b[0m \u001b[32m66.7/66.7 kB\u001b[0m \u001b[31m5.7 MB/s\u001b[0m eta \u001b[36m0:00:00\u001b[0m\n",
      "\u001b[?25hDownloading Brotli-1.1.0-cp39-cp39-macosx_10_9_x86_64.whl (446 kB)\n",
      "\u001b[2K   \u001b[90m━━━━━━━━━━━━━━━━━━━━━━━━━━━━━━━━━━━━━━━━\u001b[0m \u001b[32m446.2/446.2 kB\u001b[0m \u001b[31m9.5 MB/s\u001b[0m eta \u001b[36m0:00:00\u001b[0mta \u001b[36m0:00:01\u001b[0m\n",
      "\u001b[?25hDownloading pycryptodomex-3.19.0-cp35-abi3-macosx_10_9_x86_64.whl (1.6 MB)\n",
      "\u001b[2K   \u001b[90m━━━━━━━━━━━━━━━━━━━━━━━━━━━━━━━━━━━━━━━━\u001b[0m \u001b[32m1.6/1.6 MB\u001b[0m \u001b[31m10.3 MB/s\u001b[0m eta \u001b[36m0:00:00\u001b[0ma \u001b[36m0:00:01\u001b[0m\n",
      "\u001b[?25hDownloading pyzstd-0.15.9-cp39-cp39-macosx_10_9_x86_64.whl (447 kB)\n",
      "\u001b[2K   \u001b[90m━━━━━━━━━━━━━━━━━━━━━━━━━━━━━━━━━━━━━━━━\u001b[0m \u001b[32m447.9/447.9 kB\u001b[0m \u001b[31m9.7 MB/s\u001b[0m eta \u001b[36m0:00:00\u001b[0m:00:01\u001b[0m\n",
      "\u001b[?25hDownloading texttable-1.7.0-py2.py3-none-any.whl (10 kB)\n",
      "Installing collected packages: texttable, brotli, pyzstd, pyppmd, pycryptodomex, pybcj, multivolumefile, inflate64, py7zr\n",
      "Successfully installed brotli-1.1.0 inflate64-0.3.1 multivolumefile-0.2.3 py7zr-0.20.6 pybcj-1.0.1 pycryptodomex-3.19.0 pyppmd-1.0.0 pyzstd-0.15.9 texttable-1.7.0\n"
     ]
    }
   ],
   "source": [
    "!pip install --user pyunpack\n",
    "!pip install --user patool\n",
    "!pip install py7zr"
   ]
  },
  {
   "cell_type": "code",
   "execution_count": 17,
   "id": "f3ec7c25",
   "metadata": {},
   "outputs": [],
   "source": [
    "from pyunpack import Archive\n",
    "import patoolib\n",
    "import py7zr"
   ]
  },
  {
   "cell_type": "code",
   "execution_count": 19,
   "id": "eafd3091",
   "metadata": {},
   "outputs": [],
   "source": [
    "with py7zr.SevenZipFile(zipfile_path, mode='r') as archive:\n",
    "    # Extract all the contents to the specified directory\n",
    "    archive.extractall(dataset_path)"
   ]
  },
  {
   "cell_type": "code",
   "execution_count": null,
   "id": "f0554a25",
   "metadata": {},
   "outputs": [],
   "source": []
  },
  {
   "cell_type": "code",
   "execution_count": null,
   "id": "cbaaa68c",
   "metadata": {},
   "outputs": [],
   "source": []
  },
  {
   "cell_type": "code",
   "execution_count": null,
   "id": "7ea09fd4",
   "metadata": {},
   "outputs": [],
   "source": []
  },
  {
   "cell_type": "code",
   "execution_count": null,
   "id": "57897800",
   "metadata": {},
   "outputs": [],
   "source": []
  }
 ],
 "metadata": {
  "kernelspec": {
   "display_name": "Python 3 (ipykernel)",
   "language": "python",
   "name": "python3"
  },
  "language_info": {
   "codemirror_mode": {
    "name": "ipython",
    "version": 3
   },
   "file_extension": ".py",
   "mimetype": "text/x-python",
   "name": "python",
   "nbconvert_exporter": "python",
   "pygments_lexer": "ipython3",
   "version": "3.9.12"
  }
 },
 "nbformat": 4,
 "nbformat_minor": 5
}
