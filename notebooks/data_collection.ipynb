{
 "cells": [
  {
   "cell_type": "code",
   "execution_count": 16,
   "id": "e402d1f7",
   "metadata": {},
   "outputs": [],
   "source": [
    "import urllib.request, urllib.parse, urllib.error\n",
    "import requests\n",
    "from urllib import request\n",
    "from bs4 import BeautifulSoup\n",
    "import ssl\n",
    "import time\n",
    "import pandas as pd\n",
    "import zipfile"
   ]
  },
  {
   "cell_type": "code",
   "execution_count": 17,
   "id": "29c7d17b",
   "metadata": {},
   "outputs": [],
   "source": [
    "url = 'https://archive.ics.uci.edu/static/public/555/apartment+for+rent+classified.zip'"
   ]
  },
  {
   "cell_type": "code",
   "execution_count": 18,
   "id": "86b59d88",
   "metadata": {},
   "outputs": [],
   "source": [
    "import os\n",
    "dataset_path = os.getcwd() + \"/\""
   ]
  },
  {
   "cell_type": "code",
   "execution_count": 19,
   "id": "5661d0f8",
   "metadata": {},
   "outputs": [],
   "source": [
    "def download_file(url, dataset_path, filename):\n",
    "    \"\"\"\n",
    "    Downloads the file at the url to the path 'dataset_path/filename'.\n",
    "\n",
    "    Returns True if dataset was downloaded, False if already existing\n",
    "    \"\"\"\n",
    "    os.makedirs(dataset_path, exist_ok=True)\n",
    "    file_path = os.path.join(dataset_path, filename)\n",
    "    if not os.path.exists(file_path):\n",
    "        request.urlretrieve(url, file_path)\n",
    "        return True\n",
    "    else:\n",
    "        return False"
   ]
  },
  {
   "cell_type": "code",
   "execution_count": 20,
   "id": "c0bd107b",
   "metadata": {},
   "outputs": [],
   "source": [
    "def download_unzip(url: str, dataset_path: str):\n",
    "    \"\"\"\n",
    "    Downloads the file at the specified 'url' and unzips it\n",
    "    at the specified 'dataset_path'.\n",
    "    \"\"\"\n",
    "    filename_zip = dataset_path + '/data.zip'\n",
    "    file_path_zip = os.path.join(dataset_path, filename_zip)\n",
    "    fresh_download = download_file(url, dataset_path, filename_zip)\n",
    "    if fresh_download:\n",
    "        # TODO This naively assumes downloaded implies extracted\n",
    "        zf = zipfile.ZipFile(file_path_zip)\n",
    "        zf.extractall(dataset_path)"
   ]
  },
  {
   "cell_type": "code",
   "execution_count": 21,
   "id": "c1bcb533",
   "metadata": {},
   "outputs": [],
   "source": [
    "download_unzip(url, dataset_path)"
   ]
  },
  {
   "cell_type": "code",
   "execution_count": null,
   "id": "ae6bb748",
   "metadata": {},
   "outputs": [],
   "source": []
  },
  {
   "cell_type": "code",
   "execution_count": null,
   "id": "6bbef2aa",
   "metadata": {},
   "outputs": [],
   "source": []
  },
  {
   "cell_type": "code",
   "execution_count": null,
   "id": "f3ec7c25",
   "metadata": {},
   "outputs": [],
   "source": []
  },
  {
   "cell_type": "code",
   "execution_count": null,
   "id": "eafd3091",
   "metadata": {},
   "outputs": [],
   "source": []
  },
  {
   "cell_type": "code",
   "execution_count": null,
   "id": "f0554a25",
   "metadata": {},
   "outputs": [],
   "source": []
  },
  {
   "cell_type": "code",
   "execution_count": null,
   "id": "cbaaa68c",
   "metadata": {},
   "outputs": [],
   "source": []
  },
  {
   "cell_type": "code",
   "execution_count": null,
   "id": "7ea09fd4",
   "metadata": {},
   "outputs": [],
   "source": []
  },
  {
   "cell_type": "code",
   "execution_count": null,
   "id": "57897800",
   "metadata": {},
   "outputs": [],
   "source": []
  }
 ],
 "metadata": {
  "kernelspec": {
   "display_name": "Python 3 (ipykernel)",
   "language": "python",
   "name": "python3"
  },
  "language_info": {
   "codemirror_mode": {
    "name": "ipython",
    "version": 3
   },
   "file_extension": ".py",
   "mimetype": "text/x-python",
   "name": "python",
   "nbconvert_exporter": "python",
   "pygments_lexer": "ipython3",
   "version": "3.9.12"
  }
 },
 "nbformat": 4,
 "nbformat_minor": 5
}
